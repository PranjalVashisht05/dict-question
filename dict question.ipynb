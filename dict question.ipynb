{
 "cells": [
  {
   "cell_type": "code",
   "execution_count": 3,
   "id": "6be729e1",
   "metadata": {},
   "outputs": [],
   "source": [
    "d1={\"A\":2,\"B\":3}\n",
    "d2={\"C\":3,\"B\":2}\n",
    "\n"
   ]
  },
  {
   "cell_type": "code",
   "execution_count": 59,
   "id": "0cc1ba3f",
   "metadata": {},
   "outputs": [
    {
     "name": "stdout",
     "output_type": "stream",
     "text": [
      "{'B'}\n",
      "B\n",
      "3\n",
      "2\n",
      "None\n",
      "{('B', 2), ('B', 3), ('A', 2), ('C', 3)}\n"
     ]
    }
   ],
   "source": [
    "common_key=d1.keys()&d2.keys()\n",
    "print(common_key) # common key in two dic\n",
    "\n",
    "\n",
    "for i in common_key:#common key with diff val\n",
    "    print (i)\n",
    "    print(d1[i])\n",
    "    print(d2[i])\n",
    "    \n",
    "list1=[]\n",
    "value=d1.items() & d2.items() #item common\n",
    "print(list1.append(value))\n",
    "\n",
    "\n",
    "diff_value=d2.items() | d1.items() #no duplicates in dics\n",
    "print(diff_value)"
   ]
  },
  {
   "cell_type": "code",
   "execution_count": null,
   "id": "f023a188",
   "metadata": {},
   "outputs": [],
   "source": [
    "\n",
    "\n",
    "\n"
   ]
  },
  {
   "cell_type": "code",
   "execution_count": null,
   "id": "a962eeee",
   "metadata": {},
   "outputs": [],
   "source": []
  }
 ],
 "metadata": {
  "kernelspec": {
   "display_name": "Python 3 (ipykernel)",
   "language": "python",
   "name": "python3"
  },
  "language_info": {
   "codemirror_mode": {
    "name": "ipython",
    "version": 3
   },
   "file_extension": ".py",
   "mimetype": "text/x-python",
   "name": "python",
   "nbconvert_exporter": "python",
   "pygments_lexer": "ipython3",
   "version": "3.9.7"
  }
 },
 "nbformat": 4,
 "nbformat_minor": 5
}
